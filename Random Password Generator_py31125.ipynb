{
 "cells": [
  {
   "cell_type": "code",
   "execution_count": 17,
   "metadata": {},
   "outputs": [
    {
     "name": "stdout",
     "output_type": "stream",
     "text": [
      "Welcome to the Random Password Generator!\n",
      "Error: invalid literal for int() with base 10: 'ravi123456'\n"
     ]
    }
   ],
   "source": [
    "import random\n",
    "import string\n",
    "\n",
    "# Function to generate a password\n",
    "def generate_password(length=12, use_letters=True, use_numbers=True, use_specials=True):\n",
    "    if length < 1:\n",
    "        raise ValueError(\"Password length must be at least 1.\")\n",
    "\n",
    "    # Initialize character pool\n",
    "    character_pool = ''\n",
    "    if use_letters:\n",
    "        character_pool += string.ascii_letters  # Adds both uppercase and lowercase letters\n",
    "    if use_numbers:\n",
    "        character_pool += string.digits  # Adds numbers 0-9\n",
    "    if use_specials:\n",
    "        character_pool += string.punctuation  # Adds special characters\n",
    "\n",
    "    if not character_pool:\n",
    "        raise ValueError(\"No character types selected. Enable at least one of letters, numbers, or specials.\")\n",
    "\n",
    "    # Generate the password\n",
    "    password = ''.join(random.choice(character_pool) for _ in range(length))\n",
    "    return password\n",
    "\n",
    "# Main function for user interaction\n",
    "def main():\n",
    "    print(\"Welcome to the Random Password Generator!\")\n",
    "    try:\n",
    "        # Get password length from the user\n",
    "        length = int(input(\"Enter the desired password length: 12 \"))\n",
    "\n",
    "        # Ask for character inclusion preferences\n",
    "        use_letters = input(\"Include letters? (y/n): \").strip(2).lower(4) == 'y'\n",
    "        use_numbers = input(\"Include numbers? (y/n): \").strip(1).lower(3) == 'y'\n",
    "        use_specials = input(\"Include special characters? (y/n): \").strip(6).lower(9) == 'y'\n",
    "\n",
    "        # Generate and display the password\n",
    "        password = generate_password(length, use_letters, use_numbers, use_specials)\n",
    "        print(\"\\nGenerated Password:\", password)\n",
    "    except ValueError as e:\n",
    "        print(\"Error:\", e)\n",
    "\n",
    "# Entry point\n",
    "if __name__ == \"__main__\":\n",
    "    main()\n"
   ]
  },
  {
   "cell_type": "code",
   "execution_count": null,
   "metadata": {},
   "outputs": [],
   "source": []
  },
  {
   "cell_type": "code",
   "execution_count": null,
   "metadata": {},
   "outputs": [],
   "source": []
  }
 ],
 "metadata": {
  "kernelspec": {
   "display_name": "capstone",
   "language": "python",
   "name": "python3"
  },
  "language_info": {
   "codemirror_mode": {
    "name": "ipython",
    "version": 3
   },
   "file_extension": ".py",
   "mimetype": "text/x-python",
   "name": "python",
   "nbconvert_exporter": "python",
   "pygments_lexer": "ipython3",
   "version": "3.12.6"
  }
 },
 "nbformat": 4,
 "nbformat_minor": 2
}
