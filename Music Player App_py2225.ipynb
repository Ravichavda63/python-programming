{
 "cells": [
  {
   "cell_type": "code",
   "execution_count": 9,
   "metadata": {},
   "outputs": [
    {
     "name": "stdout",
     "output_type": "stream",
     "text": [
      "Collecting pygame\n",
      "  Using cached pygame-2.6.1-cp312-cp312-win_amd64.whl.metadata (13 kB)\n",
      "Requirement already satisfied: pandas in c:\\users\\hp\\anaconda3\\envs\\capstone\\lib\\site-packages (2.2.3)\n",
      "Requirement already satisfied: scikit-learn in c:\\users\\hp\\anaconda3\\envs\\capstone\\lib\\site-packages (1.5.2)\n",
      "Collecting spotipy\n",
      "  Downloading spotipy-2.25.0-py3-none-any.whl.metadata (4.7 kB)\n",
      "Requirement already satisfied: numpy>=1.26.0 in c:\\users\\hp\\anaconda3\\envs\\capstone\\lib\\site-packages (from pandas) (2.1.1)\n",
      "Requirement already satisfied: python-dateutil>=2.8.2 in c:\\users\\hp\\anaconda3\\envs\\capstone\\lib\\site-packages (from pandas) (2.9.0)\n",
      "Requirement already satisfied: pytz>=2020.1 in c:\\users\\hp\\anaconda3\\envs\\capstone\\lib\\site-packages (from pandas) (2024.2)\n",
      "Requirement already satisfied: tzdata>=2022.7 in c:\\users\\hp\\anaconda3\\envs\\capstone\\lib\\site-packages (from pandas) (2024.2)\n",
      "Requirement already satisfied: scipy>=1.6.0 in c:\\users\\hp\\anaconda3\\envs\\capstone\\lib\\site-packages (from scikit-learn) (1.14.1)\n",
      "Requirement already satisfied: joblib>=1.2.0 in c:\\users\\hp\\anaconda3\\envs\\capstone\\lib\\site-packages (from scikit-learn) (1.4.2)\n",
      "Requirement already satisfied: threadpoolctl>=3.1.0 in c:\\users\\hp\\anaconda3\\envs\\capstone\\lib\\site-packages (from scikit-learn) (3.5.0)\n",
      "Collecting redis>=3.5.3 (from spotipy)\n",
      "  Downloading redis-5.2.1-py3-none-any.whl.metadata (9.1 kB)\n",
      "Requirement already satisfied: requests>=2.25.0 in c:\\users\\hp\\anaconda3\\envs\\capstone\\lib\\site-packages (from spotipy) (2.32.3)\n",
      "Requirement already satisfied: urllib3>=1.26.0 in c:\\users\\hp\\anaconda3\\envs\\capstone\\lib\\site-packages (from spotipy) (2.2.3)\n",
      "Requirement already satisfied: six>=1.5 in c:\\users\\hp\\anaconda3\\envs\\capstone\\lib\\site-packages (from python-dateutil>=2.8.2->pandas) (1.16.0)\n",
      "Requirement already satisfied: charset-normalizer<4,>=2 in c:\\users\\hp\\anaconda3\\envs\\capstone\\lib\\site-packages (from requests>=2.25.0->spotipy) (3.3.2)\n",
      "Requirement already satisfied: idna<4,>=2.5 in c:\\users\\hp\\anaconda3\\envs\\capstone\\lib\\site-packages (from requests>=2.25.0->spotipy) (3.10)\n",
      "Requirement already satisfied: certifi>=2017.4.17 in c:\\users\\hp\\anaconda3\\envs\\capstone\\lib\\site-packages (from requests>=2.25.0->spotipy) (2024.8.30)\n",
      "Using cached pygame-2.6.1-cp312-cp312-win_amd64.whl (10.6 MB)\n",
      "Downloading spotipy-2.25.0-py3-none-any.whl (30 kB)\n",
      "Downloading redis-5.2.1-py3-none-any.whl (261 kB)\n",
      "Installing collected packages: redis, pygame, spotipy\n",
      "Successfully installed pygame-2.6.1 redis-5.2.1 spotipy-2.25.0\n"
     ]
    }
   ],
   "source": [
    "!pip install pygame pandas scikit-learn spotipy"
   ]
  },
  {
   "cell_type": "code",
   "execution_count": 10,
   "metadata": {},
   "outputs": [
    {
     "name": "stdout",
     "output_type": "stream",
     "text": [
      "pygame 2.6.1 (SDL 2.28.4, Python 3.12.6)\n",
      "Hello from the pygame community. https://www.pygame.org/contribute.html\n"
     ]
    },
    {
     "ename": "FileNotFoundError",
     "evalue": "[WinError 3] The system cannot find the path specified: './music'",
     "output_type": "error",
     "traceback": [
      "\u001b[1;31m---------------------------------------------------------------------------\u001b[0m",
      "\u001b[1;31mFileNotFoundError\u001b[0m                         Traceback (most recent call last)",
      "Cell \u001b[1;32mIn[10], line 75\u001b[0m\n\u001b[0;32m     72\u001b[0m             \u001b[38;5;28mprint\u001b[39m(\u001b[38;5;124m\"\u001b[39m\u001b[38;5;124mInvalid choice, try again.\u001b[39m\u001b[38;5;124m\"\u001b[39m)\n\u001b[0;32m     74\u001b[0m \u001b[38;5;28;01mif\u001b[39;00m \u001b[38;5;18m__name__\u001b[39m \u001b[38;5;241m==\u001b[39m \u001b[38;5;124m\"\u001b[39m\u001b[38;5;124m__main__\u001b[39m\u001b[38;5;124m\"\u001b[39m:\n\u001b[1;32m---> 75\u001b[0m     \u001b[43mmain\u001b[49m\u001b[43m(\u001b[49m\u001b[43m)\u001b[49m\n",
      "Cell \u001b[1;32mIn[10], line 52\u001b[0m, in \u001b[0;36mmain\u001b[1;34m()\u001b[0m\n\u001b[0;32m     50\u001b[0m \u001b[38;5;28;01mdef\u001b[39;00m \u001b[38;5;21mmain\u001b[39m():\n\u001b[0;32m     51\u001b[0m     music_directory \u001b[38;5;241m=\u001b[39m \u001b[38;5;124m\"\u001b[39m\u001b[38;5;124m./music\u001b[39m\u001b[38;5;124m\"\u001b[39m\n\u001b[1;32m---> 52\u001b[0m     all_songs \u001b[38;5;241m=\u001b[39m \u001b[43mload_music\u001b[49m\u001b[43m(\u001b[49m\u001b[43mmusic_directory\u001b[49m\u001b[43m)\u001b[49m\n\u001b[0;32m     53\u001b[0m     user_history \u001b[38;5;241m=\u001b[39m []\n\u001b[0;32m     55\u001b[0m     \u001b[38;5;28;01mwhile\u001b[39;00m \u001b[38;5;28;01mTrue\u001b[39;00m:\n",
      "Cell \u001b[1;32mIn[10], line 11\u001b[0m, in \u001b[0;36mload_music\u001b[1;34m(directory)\u001b[0m\n\u001b[0;32m      9\u001b[0m \u001b[38;5;28;01mdef\u001b[39;00m \u001b[38;5;21mload_music\u001b[39m(directory):\n\u001b[0;32m     10\u001b[0m \u001b[38;5;250m    \u001b[39m\u001b[38;5;124;03m\"\"\"Loads music files from the specified directory.\"\"\"\u001b[39;00m\n\u001b[1;32m---> 11\u001b[0m     \u001b[38;5;28;01mreturn\u001b[39;00m [os\u001b[38;5;241m.\u001b[39mpath\u001b[38;5;241m.\u001b[39mjoin(directory, file) \u001b[38;5;28;01mfor\u001b[39;00m file \u001b[38;5;129;01min\u001b[39;00m \u001b[43mos\u001b[49m\u001b[38;5;241;43m.\u001b[39;49m\u001b[43mlistdir\u001b[49m\u001b[43m(\u001b[49m\u001b[43mdirectory\u001b[49m\u001b[43m)\u001b[49m \u001b[38;5;28;01mif\u001b[39;00m file\u001b[38;5;241m.\u001b[39mendswith(\u001b[38;5;124m'\u001b[39m\u001b[38;5;124m.mp3\u001b[39m\u001b[38;5;124m'\u001b[39m)]\n",
      "\u001b[1;31mFileNotFoundError\u001b[0m: [WinError 3] The system cannot find the path specified: './music'"
     ]
    }
   ],
   "source": [
    "import os\n",
    "import random\n",
    "import pygame\n",
    "import pandas as pd\n",
    "from sklearn.neighbors import NearestNeighbors\n",
    "import spotipy\n",
    "from spotipy.oauth2 import SpotifyClientCredentials\n",
    "\n",
    "def load_music(directory):\n",
    "    \"\"\"Loads music files from the specified directory.\"\"\"\n",
    "    return [os.path.join(directory, file) for file in os.listdir(directory) if file.endswith('.mp3')]\n",
    "\n",
    "def play_music(track):\n",
    "    \"\"\"Plays the selected music track.\"\"\"\n",
    "    pygame.mixer.init()\n",
    "    pygame.mixer.music.load(track)\n",
    "    pygame.mixer.music.play()\n",
    "    print(f'Now Playing: {os.path.basename(track)}')\n",
    "\n",
    "def fetch_trending_tracks():\n",
    "    \"\"\"Fetches real-time trending tracks using Spotify API.\"\"\"\n",
    "    client_id = \"your_spotify_client_id\"\n",
    "    client_secret = \"your_spotify_client_secret\"\n",
    "    \n",
    "    sp = spotipy.Spotify(auth_manager=SpotifyClientCredentials(client_id=client_id, client_secret=client_secret))\n",
    "    results = sp.playlist_tracks(\"37i9dQZF1DXcBWIGoYBM5M\")  # Example: Global Top 50\n",
    "    \n",
    "    trending_tracks = []\n",
    "    for item in results['items']:\n",
    "        track = item['track']['name'] + ' - ' + item['track']['artists'][0]['name']\n",
    "        trending_tracks.append(track)\n",
    "    \n",
    "    return trending_tracks\n",
    "\n",
    "def recommend_songs(user_history, all_songs):\n",
    "    \"\"\"Recommends songs based on historical listening data.\"\"\"\n",
    "    if len(user_history) < 2:\n",
    "        return random.sample(all_songs, min(len(all_songs), 5))\n",
    "    \n",
    "    df = pd.DataFrame({'song': all_songs, 'feature': [random.random() for _ in all_songs]})\n",
    "    history_df = pd.DataFrame({'song': user_history, 'feature': [random.random() for _ in user_history]})\n",
    "    \n",
    "    model = NearestNeighbors(n_neighbors=5, metric='euclidean')\n",
    "    model.fit(df[['feature']])\n",
    "    \n",
    "    _, indices = model.kneighbors(history_df[['feature']])\n",
    "    recommended = df.iloc[indices.flatten()]['song'].tolist()\n",
    "    return list(set(recommended) - set(user_history))\n",
    "\n",
    "def main():\n",
    "    music_directory = \"./music\"\n",
    "    all_songs = load_music(music_directory)\n",
    "    user_history = []\n",
    "    \n",
    "    while True:\n",
    "        print(\"\\nOptions: 1-Play Random, 2-Recommend Songs, 3-Trending Tracks, 4-Exit\")\n",
    "        choice = input(\"Choose an option: \")\n",
    "        \n",
    "        if choice == '1':\n",
    "            track = random.choice(all_songs)\n",
    "            play_music(track)\n",
    "            user_history.append(track)\n",
    "        elif choice == '2':\n",
    "            recommendations = recommend_songs(user_history, all_songs)\n",
    "            print(\"Recommended Songs:\", recommendations)\n",
    "        elif choice == '3':\n",
    "            trending = fetch_trending_tracks()\n",
    "            print(\"Trending Tracks:\", trending)\n",
    "        elif choice == '4':\n",
    "            break\n",
    "        else:\n",
    "            print(\"Invalid choice, try again.\")\n",
    "\n",
    "if __name__ == \"__main__\":\n",
    "    main()"
   ]
  },
  {
   "cell_type": "code",
   "execution_count": null,
   "metadata": {},
   "outputs": [],
   "source": []
  }
 ],
 "metadata": {
  "kernelspec": {
   "display_name": "capstone",
   "language": "python",
   "name": "python3"
  },
  "language_info": {
   "codemirror_mode": {
    "name": "ipython",
    "version": 3
   },
   "file_extension": ".py",
   "mimetype": "text/x-python",
   "name": "python",
   "nbconvert_exporter": "python",
   "pygments_lexer": "ipython3",
   "version": "3.12.6"
  }
 },
 "nbformat": 4,
 "nbformat_minor": 2
}
