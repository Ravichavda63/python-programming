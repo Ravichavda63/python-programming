{
 "cells": [
  {
   "cell_type": "code",
   "execution_count": 12,
   "metadata": {},
   "outputs": [
    {
     "name": "stdout",
     "output_type": "stream",
     "text": [
      "1. View tasks\n",
      "2. Add task\n",
      "3. Edit task\n",
      "4. Delete task\n",
      "5. Exit\n"
     ]
    }
   ],
   "source": [
    "# Simple To-Do List App\n",
    "def display_menu():\n",
    "    print(\"\\nTo-Do List App\")\n",
    "print(\"1. View tasks\")\n",
    "print(\"2. Add task\")\n",
    "print(\"3. Edit task\")\n",
    "print(\"4. Delete task\")\n",
    "print(\"5. Exit\")"
   ]
  },
  {
   "cell_type": "code",
   "execution_count": 13,
   "metadata": {},
   "outputs": [],
   "source": [
    "def view_tasks(tasks):\n",
    "    if not tasks:\n",
    "        print(\"\\nNo tasks to display.\")\n",
    "    else:\n",
    "        print(\"\\nTasks:\")\n",
    "        for i, task in enumerate(tasks, start=1):\n",
    "            print(f\"{i}. {task}\")"
   ]
  },
  {
   "cell_type": "code",
   "execution_count": 14,
   "metadata": {},
   "outputs": [],
   "source": [
    "def add_task(tasks):\n",
    "    task = input(\"\\nEnter the task to add: \").strip()\n",
    "    if task:\n",
    "        tasks.append(task)\n",
    "        print(f\"Task '{task}' added.\")\n",
    "    else:\n",
    "        print(\"Task cannot be empty.\")"
   ]
  },
  {
   "cell_type": "code",
   "execution_count": 15,
   "metadata": {},
   "outputs": [],
   "source": [
    "def edit_task(tasks):\n",
    "    if not tasks:\n",
    "        print(\"\\nNo tasks to edit.\")\n",
    "        return\n",
    "    view_tasks(tasks)\n",
    "    try:\n",
    "        task_num = int(input(\"\\nEnter the task number to edit: \"))\n",
    "        if 1 <= task_num <= len(tasks):\n",
    "            new_task = input(\"Enter the updated task: \").strip()\n",
    "            if new_task:\n",
    "                tasks[task_num - 1] = new_task\n",
    "                print(\"Task updated.\")\n",
    "            else:\n",
    "                print(\"Updated task cannot be empty.\")\n",
    "        else:\n",
    "            print(\"Invalid task number.\")\n",
    "    except ValueError:\n",
    "        print(\"Invalid input. Please enter a number.\")\n"
   ]
  },
  {
   "cell_type": "code",
   "execution_count": 16,
   "metadata": {},
   "outputs": [],
   "source": [
    "def delete_task(tasks):\n",
    "    if not tasks:\n",
    "        print(\"\\nNo tasks to delete.\")\n",
    "        return\n",
    "    view_tasks(tasks)\n",
    "    try:\n",
    "        task_num = int(input(\"\\nEnter the task number to delete: \"))\n",
    "        if 1 <= task_num <= len(tasks):\n",
    "            removed_task = tasks.pop(task_num - 1)\n",
    "            print(f\"Task '{removed_task}' deleted.\")\n",
    "        else:\n",
    "            print(\"Invalid task number.\")\n",
    "    except ValueError:\n",
    "        print(\"Invalid input. Please enter a number.\")"
   ]
  },
  {
   "cell_type": "code",
   "execution_count": 17,
   "metadata": {},
   "outputs": [],
   "source": [
    "def main():\n",
    "    tasks = []\n",
    "    while True:\n",
    "        display_menu()\n",
    "        choice = input(\"\\nEnter your choice: \").strip()\n",
    "        if choice == \"1\":\n",
    "            view_tasks(tasks)\n",
    "        elif choice == \"2\":\n",
    "            add_task(tasks)\n",
    "        elif choice == \"3\":\n",
    "            edit_task(tasks)\n",
    "        elif choice == \"4\":\n",
    "            delete_task(tasks)\n",
    "        elif choice == \"5\":\n",
    "            print(\"Exiting the app. Goodbye!\")\n",
    "            break\n",
    "        else:\n",
    "            print(\"Invalid choice. Please try again.\")"
   ]
  },
  {
   "cell_type": "code",
   "execution_count": null,
   "metadata": {},
   "outputs": [
    {
     "name": "stdout",
     "output_type": "stream",
     "text": [
      "\n",
      "To-Do List App\n",
      "Invalid choice. Please try again.\n",
      "\n",
      "To-Do List App\n",
      "Invalid choice. Please try again.\n",
      "\n",
      "To-Do List App\n",
      "Invalid choice. Please try again.\n",
      "\n",
      "To-Do List App\n",
      "Invalid choice. Please try again.\n",
      "\n",
      "To-Do List App\n"
     ]
    }
   ],
   "source": [
    "if __name__ == \"__main__\":\n",
    "    main()"
   ]
  }
 ],
 "metadata": {
  "kernelspec": {
   "display_name": "capstone",
   "language": "python",
   "name": "python3"
  },
  "language_info": {
   "codemirror_mode": {
    "name": "ipython",
    "version": 3
   },
   "file_extension": ".py",
   "mimetype": "text/x-python",
   "name": "python",
   "nbconvert_exporter": "python",
   "pygments_lexer": "ipython3",
   "version": "3.12.6"
  }
 },
 "nbformat": 4,
 "nbformat_minor": 2
}
